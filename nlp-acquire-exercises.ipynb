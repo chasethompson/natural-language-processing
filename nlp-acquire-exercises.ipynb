{
 "cells": [
  {
   "cell_type": "code",
   "execution_count": 1,
   "metadata": {},
   "outputs": [],
   "source": [
    "from requests import get\n",
    "from bs4 import BeautifulSoup\n",
    "import numpy as np\n",
    "import os\n",
    "\n",
    "from selenium import webdriver\n",
    "from selenium.webdriver.common.keys import Keys\n",
    "from selenium.webdriver.support.ui import WebDriverWait\n",
    "from selenium.webdriver.support import expected_conditions as EC\n",
    "from selenium.webdriver.common.by import By\n",
    "\n",
    "import re\n",
    "import pandas as pd\n",
    "from tabulate import tabulate"
   ]
  },
  {
   "cell_type": "code",
   "execution_count": null,
   "metadata": {},
   "outputs": [],
   "source": [
    "url = 'https://codeup.com/codeups-data-science-career-accelerator-is-here/'\n",
    "headers = {'User-Agent': 'Codeup Data Science'} # Some websites don't accept the python-requests default user-agent\n",
    "response = get(url, headers=headers)"
   ]
  },
  {
   "cell_type": "code",
   "execution_count": null,
   "metadata": {},
   "outputs": [],
   "source": [
    "response.text"
   ]
  },
  {
   "cell_type": "code",
   "execution_count": null,
   "metadata": {},
   "outputs": [],
   "source": [
    "print(response.text[:400])"
   ]
  },
  {
   "cell_type": "code",
   "execution_count": null,
   "metadata": {},
   "outputs": [],
   "source": [
    "soup = BeautifulSoup(response.content, 'html.parser')"
   ]
  },
  {
   "cell_type": "code",
   "execution_count": null,
   "metadata": {},
   "outputs": [],
   "source": [
    "article = soup.find('div', class_='jupiterx-post-content')\n",
    "article.text"
   ]
  },
  {
   "cell_type": "code",
   "execution_count": null,
   "metadata": {},
   "outputs": [],
   "source": [
    "with open('article.txt', 'w') as f:\n",
    "    f.write(article.text)"
   ]
  },
  {
   "cell_type": "code",
   "execution_count": null,
   "metadata": {},
   "outputs": [],
   "source": [
    "def get_article_text():\n",
    "    # if we already have the data, read it locally\n",
    "    if os.path.exists('article.txt'):\n",
    "        with open('article.txt') as f:\n",
    "            return f.read()\n",
    "\n",
    "    # otherwise go fetch the data\n",
    "    url = 'https://codeup.com/codeups-data-science-career-accelerator-is-here/'\n",
    "    headers = {'User-Agent': 'Codeup Data Science'}\n",
    "    response = get(url, headers=headers)\n",
    "    soup = BeautifulSoup(response.text)\n",
    "    title = soup.title.string\n",
    "    article = soup.find('div', class_='jupiterx-post-content')\n",
    "\n",
    "    # save it for next time\n",
    "    with open('article.txt', 'w') as f:\n",
    "        f.write(article.text)\n",
    "\n",
    "    return title, article.text"
   ]
  },
  {
   "cell_type": "code",
   "execution_count": null,
   "metadata": {},
   "outputs": [],
   "source": [
    "get_article_text()"
   ]
  },
  {
   "cell_type": "code",
   "execution_count": null,
   "metadata": {},
   "outputs": [],
   "source": [
    "soup.find(\"h1\")"
   ]
  },
  {
   "cell_type": "code",
   "execution_count": null,
   "metadata": {},
   "outputs": [],
   "source": [
    "soup.find_all(\"a\")"
   ]
  },
  {
   "cell_type": "code",
   "execution_count": null,
   "metadata": {},
   "outputs": [],
   "source": [
    "soup.find_all('<a href=\"https')"
   ]
  },
  {
   "cell_type": "code",
   "execution_count": null,
   "metadata": {},
   "outputs": [],
   "source": [
    "soup.a.text"
   ]
  },
  {
   "cell_type": "code",
   "execution_count": null,
   "metadata": {},
   "outputs": [],
   "source": [
    "soup.a(2)"
   ]
  },
  {
   "cell_type": "code",
   "execution_count": null,
   "metadata": {},
   "outputs": [],
   "source": [
    "soup.select('a[href]')"
   ]
  },
  {
   "cell_type": "code",
   "execution_count": null,
   "metadata": {},
   "outputs": [],
   "source": [
    "def get_blog_articles()"
   ]
  },
  {
   "cell_type": "code",
   "execution_count": null,
   "metadata": {},
   "outputs": [],
   "source": [
    "#launch url\n",
    "url = \"https://codeup.com/resources/#blog\"\n",
    "\n",
    "# create a new Safari session\n",
    "browser = webdriver.Safari()\n",
    "# makes the browser wait if it can't find an element\n",
    "browser.implicitly_wait(10)\n",
    "browser.get(url)\n",
    "\n",
    "# from selenium.webdriver.common.action_chains import ActionChains\n",
    "\n",
    "# link = browser.find_element_by_link_text('Read More')\n",
    "# ActionChains(browser).move_to_element(link).perform()\n",
    "# link.click()"
   ]
  },
  {
   "cell_type": "code",
   "execution_count": null,
   "metadata": {},
   "outputs": [],
   "source": [
    "#After opening the url above, Selenium clicks the specific agency link\n",
    "python_button = driver.find_element_by_id('#blog > div > div > div > div > div > div.elementor-element.elementor-element-d61b951.codeupblog.elementor-widget.elementor-widget-jet-listing-grid.is-mac > div > div > div > div.jet-listing-grid__item.jet-listing-dynamic-post-6110 > div > div > div > section > div > div > div > div > div > div.elementor-element.elementor-element-61bf69f.elementor-widget.elementor-widget-jet-listing-dynamic-link.is-mac > div > div > a') #FHSU\n",
    "python_button.click() #click fhsu link\n",
    "\n",
    "# #Selenium hands the page source to Beautiful Soup\n",
    "# headers = {'User-Agent': 'Codeup Data Science'}\n",
    "# soup_level1=BeautifulSoup(browser.page_source, 'lxml')"
   ]
  },
  {
   "cell_type": "code",
   "execution_count": null,
   "metadata": {},
   "outputs": [],
   "source": [
    "datalist = [] #empty list\n",
    "x = 0 #counter\n",
    "\n",
    "#Beautiful Soup finds all Job Title links on the agency page and the loop begins\n",
    "for link in soup_level1.find_all('a', id=re.compile(\"^MainContent_uxLevel2_JobTitles_uxJobTitleBtn_\")):\n",
    "    \n",
    "    #Selenium visits each Job Title page\n",
    "    python_button = driver.find_element_by_id('MainContent_uxLevel2_JobTitles_uxJobTitleBtn_' + str(x))\n",
    "    python_button.click() #click link\n",
    "    \n",
    "    #Selenium hands of the source of the specific job page to Beautiful Soup\n",
    "    soup_level2=BeautifulSoup(driver.page_source, 'lxml')\n",
    "\n",
    "    #Beautiful Soup grabs the HTML table on the page\n",
    "    table = soup_level2.find_all('table')[0]\n",
    "    \n",
    "    #Giving the HTML table to pandas to put in a dataframe object\n",
    "    df = pd.read_html(str(table),header=0)\n",
    "    \n",
    "    #Store the dataframe in a list\n",
    "    datalist.append(df[0])\n",
    "    \n",
    "    #Ask Selenium to click the back button\n",
    "    driver.execute_script(\"window.history.go(-1)\") \n",
    "    \n",
    "    #increment the counter variable before starting the loop over\n",
    "    x += 1\n",
    "    \n",
    "    #end loop block\n",
    "    \n",
    "#loop has completed\n",
    "\n",
    "#end the Selenium browser session\n",
    "driver.quit()\n",
    "\n",
    "#combine all pandas dataframes in the list into one big dataframe\n",
    "result = pd.concat([pd.DataFrame(datalist[i]) for i in range(len(datalist))],ignore_index=True)\n",
    "\n",
    "#convert the pandas dataframe to JSON\n",
    "json_records = result.to_json(orient='records')\n",
    "\n",
    "#pretty print to CLI with tabulate\n",
    "#converts to an ascii table\n",
    "print(tabulate(result, headers=[\"Employee Name\",\"Job Title\",\"Overtime Pay\",\"Total Gross Pay\"],tablefmt='psql'))\n",
    "\n",
    "#get current working directory\n",
    "path = os.getcwd()\n",
    "\n",
    "#open, write, and close the file\n",
    "f = open(path + \"\\\\fhsu_payroll_data.json\",\"w\") #FHSU\n",
    "f.write(json_records)\n",
    "f.close()"
   ]
  },
  {
   "cell_type": "code",
   "execution_count": null,
   "metadata": {},
   "outputs": [],
   "source": [
    "def get_all_blogs():\n",
    "    url = 'https://codeup.com/resources/#blog'\n",
    "    headers = {'User-Agent': \"Curie Data Science Cohort\"}\n",
    "    response = get(url,headers=headers)\n",
    "    soup = BeautifulSoup(response.text)\n",
    "    blogs = soup.find('div',class_=\"jet-listing jet-listing-dynamic-link\")\n",
    "    links = blogs.find_all(href=True)\n",
    "\n",
    "    all_links = [link.attrs['href'] for link in links if re.findall(r'\\d+\\/\\d+',link.attrs['href'])== [] and len(link.attrs['href'])>1]\n",
    "    all_links = list(set(all_links))\n",
    "    #loop to pull all codeup blogs\n",
    "    #urls = ['https://codeup.com/codeups-data-science-career-accelerator-is-here/','https://codeup.com/data-science-myths/','https://codeup.com/data-science-vs-data-analytics-whats-the-difference/','https://codeup.com/10-tips-to-crush-it-at-the-sa-tech-job-fair/','https://codeup.com/competitor-bootcamps-are-closing-is-the-model-in-danger/']\n",
    "\n",
    "    df = pd.DataFrame()\n",
    "    blogs = []\n",
    "    titles = []\n",
    "    for link in all_links:\n",
    "\n",
    "        response = get(link,headers=headers)\n",
    "        soup = BeautifulSoup(response.text)\n",
    "        body = soup.find('div',class_=\"mk-single-content\").get_text()\n",
    "        if soup.find('h1',class_=\"page-title\") is not None:\n",
    "            title = soup.find('h1',class_=\"page-title\").get_text()\n",
    "        else:\n",
    "            title = np.nan\n",
    "\n",
    "        blogs.append(body)\n",
    "        titles.append(title)\n",
    "    df['title'] = pd.Series(titles)\n",
    "    df['article'] = pd.Series(blogs)\n",
    "    return df"
   ]
  },
  {
   "cell_type": "code",
   "execution_count": null,
   "metadata": {},
   "outputs": [],
   "source": [
    "df = get_all_blogs()"
   ]
  },
  {
   "cell_type": "code",
   "execution_count": null,
   "metadata": {},
   "outputs": [],
   "source": [
    "url = 'https://codeup.com/resources/#blog'\n",
    "headers = {'User-Agent': \"Curie Data Science Cohort\"}\n",
    "response = get(url,headers=headers)"
   ]
  },
  {
   "cell_type": "code",
   "execution_count": null,
   "metadata": {},
   "outputs": [],
   "source": [
    "soup = BeautifulSoup(response.content, 'html.parser')"
   ]
  },
  {
   "cell_type": "code",
   "execution_count": null,
   "metadata": {},
   "outputs": [],
   "source": [
    "blogs = soup.find('div',class_=\"jet-listing jet-listing-dynamic-link\")"
   ]
  },
  {
   "cell_type": "code",
   "execution_count": null,
   "metadata": {},
   "outputs": [],
   "source": [
    "links = blogs.find_all(href=True)"
   ]
  },
  {
   "cell_type": "code",
   "execution_count": null,
   "metadata": {},
   "outputs": [],
   "source": [
    "links"
   ]
  },
  {
   "cell_type": "code",
   "execution_count": null,
   "metadata": {},
   "outputs": [],
   "source": [
    "all_links = [link.attrs['href'] for link in links if re.findall(r'\\d+\\/\\d+',link.attrs['href'])== [] and len(link.attrs['href'])>1]\n",
    "all_links = list(set(all_links))"
   ]
  },
  {
   "cell_type": "code",
   "execution_count": null,
   "metadata": {},
   "outputs": [],
   "source": [
    "def get_all_blogs():\n",
    "    url = 'https://codeup.com/resources/#blog'\n",
    "    headers = {'User-Agent': \"Curie Data Science Cohort\"}\n",
    "    response = get(url,headers=headers)\n",
    "    soup = BeautifulSoup(response.text)\n",
    "    blogs = soup.find('div',class_=\"jet-listing jet-listing-dynamic-link\")\n",
    "    links = blogs.find_all(href=True)\n",
    "\n",
    "    all_links = [link.attrs['href'] for link in links if re.findall(r'\\d+\\/\\d+',link.attrs['href'])== [] and len(link.attrs['href'])>1]\n",
    "    all_links = list(set(all_links))\n",
    "    #loop to pull all codeup blogs\n",
    "    #urls = ['https://codeup.com/codeups-data-science-career-accelerator-is-here/','https://codeup.com/data-science-myths/','https://codeup.com/data-science-vs-data-analytics-whats-the-difference/','https://codeup.com/10-tips-to-crush-it-at-the-sa-tech-job-fair/','https://codeup.com/competitor-bootcamps-are-closing-is-the-model-in-danger/']\n",
    "\n",
    "    df = pd.DataFrame()\n",
    "    blogs = []\n",
    "    titles = []\n",
    "    for link in all_links:\n",
    "\n",
    "        response = get(link,headers=headers)\n",
    "        soup = BeautifulSoup(response.text)\n",
    "        body = soup.find('div',class_=\"jupiterx-post-content\").get_text()\n",
    "        title = soup.find('h1',class_=\"jupiterx-post-title\").get_text()\n",
    "        \n",
    "\n",
    "        blogs.append(body)\n",
    "        titles.append(title)\n",
    "    df['title'] = pd.Series(titles)\n",
    "    df['article'] = pd.Series(blogs)\n",
    "    return df"
   ]
  },
  {
   "cell_type": "code",
   "execution_count": null,
   "metadata": {},
   "outputs": [],
   "source": [
    "df = get_all_blogs()"
   ]
  },
  {
   "cell_type": "code",
   "execution_count": null,
   "metadata": {},
   "outputs": [],
   "source": [
    "df"
   ]
  },
  {
   "cell_type": "code",
   "execution_count": 42,
   "metadata": {},
   "outputs": [
    {
     "ename": "WebDriverException",
     "evalue": "Message: \n",
     "output_type": "error",
     "traceback": [
      "\u001b[0;31m---------------------------------------------------------------------------\u001b[0m",
      "\u001b[0;31mWebDriverException\u001b[0m                        Traceback (most recent call last)",
      "\u001b[0;32m<ipython-input-42-494a25fbb273>\u001b[0m in \u001b[0;36m<module>\u001b[0;34m\u001b[0m\n\u001b[1;32m      5\u001b[0m \u001b[0;31m# makes the browser wait if it can't find an element\u001b[0m\u001b[0;34m\u001b[0m\u001b[0;34m\u001b[0m\u001b[0;34m\u001b[0m\u001b[0m\n\u001b[1;32m      6\u001b[0m \u001b[0mbrowser\u001b[0m\u001b[0;34m.\u001b[0m\u001b[0mimplicitly_wait\u001b[0m\u001b[0;34m(\u001b[0m\u001b[0;36m10\u001b[0m\u001b[0;34m)\u001b[0m\u001b[0;34m\u001b[0m\u001b[0;34m\u001b[0m\u001b[0m\n\u001b[0;32m----> 7\u001b[0;31m \u001b[0mbrowser\u001b[0m\u001b[0;34m.\u001b[0m\u001b[0mget\u001b[0m\u001b[0;34m(\u001b[0m\u001b[0murl\u001b[0m\u001b[0;34m)\u001b[0m\u001b[0;34m\u001b[0m\u001b[0;34m\u001b[0m\u001b[0m\n\u001b[0m\u001b[1;32m      8\u001b[0m \u001b[0;34m\u001b[0m\u001b[0m\n\u001b[1;32m      9\u001b[0m \u001b[0;31m# #Selenium hands the page source to Beautiful Soup\u001b[0m\u001b[0;34m\u001b[0m\u001b[0;34m\u001b[0m\u001b[0;34m\u001b[0m\u001b[0m\n",
      "\u001b[0;32m/usr/local/anaconda3/lib/python3.7/site-packages/selenium/webdriver/remote/webdriver.py\u001b[0m in \u001b[0;36mget\u001b[0;34m(self, url)\u001b[0m\n\u001b[1;32m    322\u001b[0m         \u001b[0mLoads\u001b[0m \u001b[0ma\u001b[0m \u001b[0mweb\u001b[0m \u001b[0mpage\u001b[0m \u001b[0;32min\u001b[0m \u001b[0mthe\u001b[0m \u001b[0mcurrent\u001b[0m \u001b[0mbrowser\u001b[0m \u001b[0msession\u001b[0m\u001b[0;34m.\u001b[0m\u001b[0;34m\u001b[0m\u001b[0;34m\u001b[0m\u001b[0m\n\u001b[1;32m    323\u001b[0m         \"\"\"\n\u001b[0;32m--> 324\u001b[0;31m         \u001b[0mself\u001b[0m\u001b[0;34m.\u001b[0m\u001b[0mexecute\u001b[0m\u001b[0;34m(\u001b[0m\u001b[0mCommand\u001b[0m\u001b[0;34m.\u001b[0m\u001b[0mGET\u001b[0m\u001b[0;34m,\u001b[0m \u001b[0;34m{\u001b[0m\u001b[0;34m'url'\u001b[0m\u001b[0;34m:\u001b[0m \u001b[0murl\u001b[0m\u001b[0;34m}\u001b[0m\u001b[0;34m)\u001b[0m\u001b[0;34m\u001b[0m\u001b[0;34m\u001b[0m\u001b[0m\n\u001b[0m\u001b[1;32m    325\u001b[0m \u001b[0;34m\u001b[0m\u001b[0m\n\u001b[1;32m    326\u001b[0m     \u001b[0;34m@\u001b[0m\u001b[0mproperty\u001b[0m\u001b[0;34m\u001b[0m\u001b[0;34m\u001b[0m\u001b[0m\n",
      "\u001b[0;32m/usr/local/anaconda3/lib/python3.7/site-packages/selenium/webdriver/remote/webdriver.py\u001b[0m in \u001b[0;36mexecute\u001b[0;34m(self, driver_command, params)\u001b[0m\n\u001b[1;32m    310\u001b[0m         \u001b[0mresponse\u001b[0m \u001b[0;34m=\u001b[0m \u001b[0mself\u001b[0m\u001b[0;34m.\u001b[0m\u001b[0mcommand_executor\u001b[0m\u001b[0;34m.\u001b[0m\u001b[0mexecute\u001b[0m\u001b[0;34m(\u001b[0m\u001b[0mdriver_command\u001b[0m\u001b[0;34m,\u001b[0m \u001b[0mparams\u001b[0m\u001b[0;34m)\u001b[0m\u001b[0;34m\u001b[0m\u001b[0;34m\u001b[0m\u001b[0m\n\u001b[1;32m    311\u001b[0m         \u001b[0;32mif\u001b[0m \u001b[0mresponse\u001b[0m\u001b[0;34m:\u001b[0m\u001b[0;34m\u001b[0m\u001b[0;34m\u001b[0m\u001b[0m\n\u001b[0;32m--> 312\u001b[0;31m             \u001b[0mself\u001b[0m\u001b[0;34m.\u001b[0m\u001b[0merror_handler\u001b[0m\u001b[0;34m.\u001b[0m\u001b[0mcheck_response\u001b[0m\u001b[0;34m(\u001b[0m\u001b[0mresponse\u001b[0m\u001b[0;34m)\u001b[0m\u001b[0;34m\u001b[0m\u001b[0;34m\u001b[0m\u001b[0m\n\u001b[0m\u001b[1;32m    313\u001b[0m             response['value'] = self._unwrap_value(\n\u001b[1;32m    314\u001b[0m                 response.get('value', None))\n",
      "\u001b[0;32m/usr/local/anaconda3/lib/python3.7/site-packages/selenium/webdriver/remote/errorhandler.py\u001b[0m in \u001b[0;36mcheck_response\u001b[0;34m(self, response)\u001b[0m\n\u001b[1;32m    240\u001b[0m                 \u001b[0malert_text\u001b[0m \u001b[0;34m=\u001b[0m \u001b[0mvalue\u001b[0m\u001b[0;34m[\u001b[0m\u001b[0;34m'alert'\u001b[0m\u001b[0;34m]\u001b[0m\u001b[0;34m.\u001b[0m\u001b[0mget\u001b[0m\u001b[0;34m(\u001b[0m\u001b[0;34m'text'\u001b[0m\u001b[0;34m)\u001b[0m\u001b[0;34m\u001b[0m\u001b[0;34m\u001b[0m\u001b[0m\n\u001b[1;32m    241\u001b[0m             \u001b[0;32mraise\u001b[0m \u001b[0mexception_class\u001b[0m\u001b[0;34m(\u001b[0m\u001b[0mmessage\u001b[0m\u001b[0;34m,\u001b[0m \u001b[0mscreen\u001b[0m\u001b[0;34m,\u001b[0m \u001b[0mstacktrace\u001b[0m\u001b[0;34m,\u001b[0m \u001b[0malert_text\u001b[0m\u001b[0;34m)\u001b[0m\u001b[0;34m\u001b[0m\u001b[0;34m\u001b[0m\u001b[0m\n\u001b[0;32m--> 242\u001b[0;31m         \u001b[0;32mraise\u001b[0m \u001b[0mexception_class\u001b[0m\u001b[0;34m(\u001b[0m\u001b[0mmessage\u001b[0m\u001b[0;34m,\u001b[0m \u001b[0mscreen\u001b[0m\u001b[0;34m,\u001b[0m \u001b[0mstacktrace\u001b[0m\u001b[0;34m)\u001b[0m\u001b[0;34m\u001b[0m\u001b[0;34m\u001b[0m\u001b[0m\n\u001b[0m\u001b[1;32m    243\u001b[0m \u001b[0;34m\u001b[0m\u001b[0m\n\u001b[1;32m    244\u001b[0m     \u001b[0;32mdef\u001b[0m \u001b[0m_value_or_default\u001b[0m\u001b[0;34m(\u001b[0m\u001b[0mself\u001b[0m\u001b[0;34m,\u001b[0m \u001b[0mobj\u001b[0m\u001b[0;34m,\u001b[0m \u001b[0mkey\u001b[0m\u001b[0;34m,\u001b[0m \u001b[0mdefault\u001b[0m\u001b[0;34m)\u001b[0m\u001b[0;34m:\u001b[0m\u001b[0;34m\u001b[0m\u001b[0;34m\u001b[0m\u001b[0m\n",
      "\u001b[0;31mWebDriverException\u001b[0m: Message: \n"
     ]
    }
   ],
   "source": [
    "url = \"https://codeup.com/resources/#blog\"\n",
    "\n",
    "# create a new Safari session\n",
    "browser = webdriver.Safari()\n",
    "# makes the browser wait if it can't find an element\n",
    "browser.implicitly_wait(10)\n",
    "browser.get(url)\n",
    "\n",
    "# #Selenium hands the page source to Beautiful Soup\n",
    "# headers = {'User-Agent': 'Codeup Data Science'}\n",
    "# soup_level=BeautifulSoup(browser.page_source, 'lxml')\n",
    "\n",
    "url = 'https://codeup.com/resources/#blog'\n",
    "headers = {'User-Agent': \"Curie Data Science Cohort\"}\n",
    "response = get(url,headers=headers)\n",
    "soup = BeautifulSoup(response.text)\n",
    "blogs = soup.find('div',class_=\"jet-listing jet-listing-dynamic-link\")\n",
    "\n",
    "datalist = [] #empty list\n",
    "x = 0 #counter\n",
    "\n",
    "for link in blogs.find_all(href=True):\n",
    "    \n",
    "    all_links = [link.attrs['href'] for link in links if re.findall(r'\\d+\\/\\d+',link.attrs['href'])== [] and len(link.attrs['href'])>1]\n",
    "    all_links = list(set(all_links))\n",
    "    \n",
    "    #Selenium visits each Job Title page\n",
    "    python_button = driver.find_element_by_id('MainContent_uxLevel2_JobTitles_uxJobTitleBtn_' + str(x))\n",
    "    python_button.click() #click link\n",
    "    \n",
    "    #Selenium hands of the source of the specific job page to Beautiful Soup\n",
    "    soup_level2=BeautifulSoup(driver.page_source, 'lxml')\n",
    "\n",
    "    #Beautiful Soup grabs the HTML table on the page\n",
    "    table = soup_level2.find_all('table')[0]\n",
    "    \n",
    "    #Giving the HTML table to pandas to put in a dataframe object\n",
    "    df = pd.read_html(str(table),header=0)\n",
    "    \n",
    "    #Store the dataframe in a list\n",
    "    datalist.append(df[0])\n",
    "    \n",
    "    #Ask Selenium to click the back button\n",
    "    driver.execute_script(\"window.history.go(-1)\") \n",
    "    \n",
    "    #increment the counter variable before starting the loop over\n",
    "    x += 1\n",
    "    \n",
    "def get_all_blogs():\n",
    "    url = 'https://codeup.com/resources/#blog'\n",
    "    headers = {'User-Agent': \"Curie Data Science Cohort\"}\n",
    "    response = get(url,headers=headers)\n",
    "    soup = BeautifulSoup(response.text)\n",
    "    all_links = []\n",
    "    \n",
    "    for a in soup.find_all('a', class_=\"jet-listing jet-listing-dynamic-link\", href=True):\n",
    "        links.append(a['href'])\n",
    "    #loop to pull all codeup blogs\n",
    "    #urls = ['https://codeup.com/codeups-data-science-career-accelerator-is-here/','https://codeup.com/data-science-myths/','https://codeup.com/data-science-vs-data-analytics-whats-the-difference/','https://codeup.com/10-tips-to-crush-it-at-the-sa-tech-job-fair/','https://codeup.com/competitor-bootcamps-are-closing-is-the-model-in-danger/']\n",
    "\n",
    "    df = pd.DataFrame()\n",
    "    blogs = []\n",
    "    titles = []\n",
    "    for link in all_links:\n",
    "\n",
    "        response = get(link,headers=headers)\n",
    "        soup = BeautifulSoup(response.text)\n",
    "        body = soup.find('div',class_=\"jupiterx-post-content\").get_text()\n",
    "        title = soup.find('h1',class_=\"jupiterx-post-title\").get_text()\n",
    "        \n",
    "\n",
    "        blogs.append(body)\n",
    "        titles.append(title)\n",
    "    df['title'] = pd.Series(titles)\n",
    "    df['article'] = pd.Series(blogs)\n",
    "    return df"
   ]
  },
  {
   "cell_type": "code",
   "execution_count": null,
   "metadata": {},
   "outputs": [],
   "source": [
    "url = 'https://codeup.com/resources/#blog'\n",
    "headers = {'User-Agent': \"Curie Data Science Cohort\"}\n",
    "response = get(url,headers=headers)\n",
    "soup = BeautifulSoup(response.text)\n",
    "blogs = soup.find_all('div', class_=\"jet-listing jet-listing-dynamic-link\")\n",
    "links = blogs.find_all(href=True)"
   ]
  },
  {
   "cell_type": "code",
   "execution_count": null,
   "metadata": {},
   "outputs": [],
   "source": [
    "blogs"
   ]
  },
  {
   "cell_type": "code",
   "execution_count": null,
   "metadata": {},
   "outputs": [],
   "source": [
    "def get_articles_from_topic(url):\n",
    "    headers = {'user-agent': 'Codeup Bayes Instructor Example'}\n",
    "    response = get(url, headers=headers)\n",
    "    soup = BeautifulSoup(response.content, 'html.parser')\n",
    "\n",
    "    output = []\n",
    "\n",
    "    articles = soup.select(\".news-card\")\n",
    "\n",
    "    for article in articles: \n",
    "        title = article.select(\"[itemprop='headline']\")[0].get_text()\n",
    "        body = article.select(\"[itemprop='articleBody']\")[0].get_text()\n",
    "        author = article.select(\".author\")[0].get_text()\n",
    "        published_date = article.select(\".time\")[0][\"content\"]\n",
    "        category = response.url.split(\"/\")[-1]\n",
    "\n",
    "        article_data = {\n",
    "            'title': title,\n",
    "            'body': body,\n",
    "            'category': category,\n",
    "            'author': author,\n",
    "            'published_date': published_date,\n",
    "        }\n",
    "        output.append(article_data)\n",
    "\n",
    "\n",
    "    return output\n",
    "\n",
    "\n",
    "def make_new_request():\n",
    "    urls = [\n",
    "        \"https://inshorts.com/en/read/business\",\n",
    "        \"https://inshorts.com/en/read/sports\",\n",
    "        \"https://inshorts.com/en/read/technology\",\n",
    "        \"https://inshorts.com/en/read/entertainment\"\n",
    "    ]\n",
    "\n",
    "    output = []\n",
    "    \n",
    "    for url in urls:\n",
    "        # We use .extend in order to make a flat output list.\n",
    "        output.extend(get_articles_from_topic(url))\n",
    "\n",
    "    df = pd.DataFrame(output)\n",
    "    df.to_csv('inshorts_news_articles.csv') \n",
    "\n",
    "    return df"
   ]
  },
  {
   "cell_type": "code",
   "execution_count": null,
   "metadata": {},
   "outputs": [],
   "source": [
    "news = make_new_request()"
   ]
  },
  {
   "cell_type": "code",
   "execution_count": null,
   "metadata": {},
   "outputs": [],
   "source": [
    "news.head()"
   ]
  },
  {
   "cell_type": "code",
   "execution_count": 31,
   "metadata": {},
   "outputs": [
    {
     "ename": "AttributeError",
     "evalue": "ResultSet object has no attribute 'find_all'. You're probably treating a list of items like a single item. Did you call find_all() when you meant to call find()?",
     "output_type": "error",
     "traceback": [
      "\u001b[0;31m---------------------------------------------------------------------------\u001b[0m",
      "\u001b[0;31mAttributeError\u001b[0m                            Traceback (most recent call last)",
      "\u001b[0;32m<ipython-input-31-ad54540b8fe2>\u001b[0m in \u001b[0;36m<module>\u001b[0;34m\u001b[0m\n\u001b[1;32m      4\u001b[0m \u001b[0msoup\u001b[0m \u001b[0;34m=\u001b[0m \u001b[0mBeautifulSoup\u001b[0m\u001b[0;34m(\u001b[0m\u001b[0mresponse\u001b[0m\u001b[0;34m.\u001b[0m\u001b[0mtext\u001b[0m\u001b[0;34m)\u001b[0m\u001b[0;34m\u001b[0m\u001b[0;34m\u001b[0m\u001b[0m\n\u001b[1;32m      5\u001b[0m \u001b[0mblogs\u001b[0m \u001b[0;34m=\u001b[0m \u001b[0msoup\u001b[0m\u001b[0;34m.\u001b[0m\u001b[0mfind_all\u001b[0m\u001b[0;34m(\u001b[0m\u001b[0;34m'div'\u001b[0m\u001b[0;34m,\u001b[0m\u001b[0mclass_\u001b[0m\u001b[0;34m=\u001b[0m\u001b[0;34m\"jet-listing jet-listing-dynamic-link\"\u001b[0m\u001b[0;34m)\u001b[0m\u001b[0;34m\u001b[0m\u001b[0;34m\u001b[0m\u001b[0m\n\u001b[0;32m----> 6\u001b[0;31m \u001b[0mlinks\u001b[0m \u001b[0;34m=\u001b[0m \u001b[0mblogs\u001b[0m\u001b[0;34m.\u001b[0m\u001b[0mfind_all\u001b[0m\u001b[0;34m(\u001b[0m\u001b[0mhref\u001b[0m\u001b[0;34m=\u001b[0m\u001b[0;32mTrue\u001b[0m\u001b[0;34m)\u001b[0m\u001b[0;34m\u001b[0m\u001b[0;34m\u001b[0m\u001b[0m\n\u001b[0m\u001b[1;32m      7\u001b[0m \u001b[0;34m\u001b[0m\u001b[0m\n\u001b[1;32m      8\u001b[0m \u001b[0mall_links\u001b[0m \u001b[0;34m=\u001b[0m \u001b[0;34m[\u001b[0m\u001b[0mlink\u001b[0m\u001b[0;34m.\u001b[0m\u001b[0mattrs\u001b[0m\u001b[0;34m[\u001b[0m\u001b[0;34m'href'\u001b[0m\u001b[0;34m]\u001b[0m \u001b[0;32mfor\u001b[0m \u001b[0mlink\u001b[0m \u001b[0;32min\u001b[0m \u001b[0mblogs\u001b[0m \u001b[0;32mif\u001b[0m \u001b[0mre\u001b[0m\u001b[0;34m.\u001b[0m\u001b[0mfindall\u001b[0m\u001b[0;34m(\u001b[0m\u001b[0;34mr'\\d+\\/\\d+'\u001b[0m\u001b[0;34m,\u001b[0m\u001b[0mlink\u001b[0m\u001b[0;34m.\u001b[0m\u001b[0mattrs\u001b[0m\u001b[0;34m[\u001b[0m\u001b[0;34m'href'\u001b[0m\u001b[0;34m]\u001b[0m\u001b[0;34m)\u001b[0m\u001b[0;34m==\u001b[0m \u001b[0;34m[\u001b[0m\u001b[0;34m]\u001b[0m \u001b[0;32mand\u001b[0m \u001b[0mlen\u001b[0m\u001b[0;34m(\u001b[0m\u001b[0mlink\u001b[0m\u001b[0;34m.\u001b[0m\u001b[0mattrs\u001b[0m\u001b[0;34m[\u001b[0m\u001b[0;34m'href'\u001b[0m\u001b[0;34m]\u001b[0m\u001b[0;34m)\u001b[0m\u001b[0;34m>\u001b[0m\u001b[0;36m1\u001b[0m\u001b[0;34m]\u001b[0m\u001b[0;34m\u001b[0m\u001b[0;34m\u001b[0m\u001b[0m\n",
      "\u001b[0;32m/usr/local/anaconda3/lib/python3.7/site-packages/bs4/element.py\u001b[0m in \u001b[0;36m__getattr__\u001b[0;34m(self, key)\u001b[0m\n\u001b[1;32m   1576\u001b[0m     \u001b[0;32mdef\u001b[0m \u001b[0m__getattr__\u001b[0m\u001b[0;34m(\u001b[0m\u001b[0mself\u001b[0m\u001b[0;34m,\u001b[0m \u001b[0mkey\u001b[0m\u001b[0;34m)\u001b[0m\u001b[0;34m:\u001b[0m\u001b[0;34m\u001b[0m\u001b[0;34m\u001b[0m\u001b[0m\n\u001b[1;32m   1577\u001b[0m         raise AttributeError(\n\u001b[0;32m-> 1578\u001b[0;31m             \u001b[0;34m\"ResultSet object has no attribute '%s'. You're probably treating a list of items like a single item. Did you call find_all() when you meant to call find()?\"\u001b[0m \u001b[0;34m%\u001b[0m \u001b[0mkey\u001b[0m\u001b[0;34m\u001b[0m\u001b[0;34m\u001b[0m\u001b[0m\n\u001b[0m\u001b[1;32m   1579\u001b[0m         )\n",
      "\u001b[0;31mAttributeError\u001b[0m: ResultSet object has no attribute 'find_all'. You're probably treating a list of items like a single item. Did you call find_all() when you meant to call find()?"
     ]
    }
   ],
   "source": [
    "url = 'https://codeup.com/resources/#blog'\n",
    "headers = {'User-Agent': \"Curie Data Science Cohort\"}\n",
    "response = get(url,headers=headers)\n",
    "soup = BeautifulSoup(response.text)\n",
    "blogs = soup.find_all('div',class_=\"jet-listing jet-listing-dynamic-link\")\n",
    "#links = blogs.find_all(href=True)\n",
    "\n",
    "all_links = [link.attrs['href'] for link in blogs if re.findall(r'\\d+\\/\\d+',link.attrs['href'])== [] and len(link.attrs['href'])>1]\n",
    "all_links = list(set(all_links))"
   ]
  },
  {
   "cell_type": "code",
   "execution_count": 30,
   "metadata": {
    "scrolled": true
   },
   "outputs": [
    {
     "data": {
      "text/plain": [
       "['https://codeup.com/bootcamp-to-bootcamp/']"
      ]
     },
     "execution_count": 30,
     "metadata": {},
     "output_type": "execute_result"
    }
   ],
   "source": [
    "all_links"
   ]
  },
  {
   "cell_type": "code",
   "execution_count": 33,
   "metadata": {},
   "outputs": [],
   "source": [
    "regex = r'''a\\s+(?:[^>]*?\\s+)?href=([\"'])(.*?)\\1'''"
   ]
  },
  {
   "cell_type": "code",
   "execution_count": 35,
   "metadata": {
    "scrolled": true
   },
   "outputs": [
    {
     "data": {
      "text/plain": [
       "[<div class=\"jet-listing jet-listing-dynamic-link\"><a class=\"jet-listing-dynamic-link__link\" href=\"https://codeup.com/bootcamp-to-bootcamp/\"><span class=\"jet-listing-dynamic-link__label\">Read More</span></a></div>,\n",
       " <div class=\"jet-listing jet-listing-dynamic-link\"><a class=\"jet-listing-dynamic-link__link\" href=\"https://codeup.com/how-to-get-started-on-a-programming-exercise/\"><span class=\"jet-listing-dynamic-link__label\">Read More</span></a></div>,\n",
       " <div class=\"jet-listing jet-listing-dynamic-link\"><a class=\"jet-listing-dynamic-link__link\" href=\"https://codeup.com/career-in-data-science/\"><span class=\"jet-listing-dynamic-link__label\">Read More</span></a></div>,\n",
       " <div class=\"jet-listing jet-listing-dynamic-link\"><a class=\"jet-listing-dynamic-link__link\" href=\"https://codeup.com/getting-hired-in-a-remote-environment/\"><span class=\"jet-listing-dynamic-link__label\">Read More</span></a></div>,\n",
       " <div class=\"jet-listing jet-listing-dynamic-link\"><a class=\"jet-listing-dynamic-link__link\" href=\"https://codeup.com/codeup-remote-students/\"><span class=\"jet-listing-dynamic-link__label\">Read More</span></a></div>,\n",
       " <div class=\"jet-listing jet-listing-dynamic-link\"><a class=\"jet-listing-dynamic-link__link\" href=\"https://codeup.com/covid-relief/\"><span class=\"jet-listing-dynamic-link__label\">Read More</span></a></div>,\n",
       " <div class=\"jet-listing jet-listing-dynamic-link\"><a class=\"jet-listing-dynamic-link__link\" href=\"https://codeup.com/discovering-my-passion-through-codeup/\"><span class=\"jet-listing-dynamic-link__label\">Read More</span></a></div>,\n",
       " <div class=\"jet-listing jet-listing-dynamic-link\"><a class=\"jet-listing-dynamic-link__link\" href=\"https://codeup.com/covid-19/\"><span class=\"jet-listing-dynamic-link__label\">Read More</span></a></div>,\n",
       " <div class=\"jet-listing jet-listing-dynamic-link\"><a class=\"jet-listing-dynamic-link__link\" href=\"https://codeup.com/15-tips-for-virtual-interview-and-meetings/\"><span class=\"jet-listing-dynamic-link__label\">Read More</span></a></div>,\n",
       " <div class=\"jet-listing jet-listing-dynamic-link\"><a class=\"jet-listing-dynamic-link__link\" href=\"https://codeup.com/setting-myself-up-for-success-at-codeup/\"><span class=\"jet-listing-dynamic-link__label\">Read More</span></a></div>,\n",
       " <div class=\"jet-listing jet-listing-dynamic-link\"><a class=\"jet-listing-dynamic-link__link\" href=\"https://codeup.com/landing-my-dream-job-through-a-web-development-course/\"><span class=\"jet-listing-dynamic-link__label\">Read More</span></a></div>,\n",
       " <div class=\"jet-listing jet-listing-dynamic-link\"><a class=\"jet-listing-dynamic-link__link\" href=\"https://codeup.com/a-second-career-start/\"><span class=\"jet-listing-dynamic-link__label\">Read More</span></a></div>,\n",
       " <div class=\"jet-listing jet-listing-dynamic-link\"><a class=\"jet-listing-dynamic-link__link\" href=\"https://codeup.com/2019-codeup/\"><span class=\"jet-listing-dynamic-link__label\">Read More</span></a></div>,\n",
       " <div class=\"jet-listing jet-listing-dynamic-link\"><a class=\"jet-listing-dynamic-link__link\" href=\"https://codeup.com/how-to-pick-coding-bootcamp-curriculum/\"><span class=\"jet-listing-dynamic-link__label\">Read More</span></a></div>,\n",
       " <div class=\"jet-listing jet-listing-dynamic-link\"><a class=\"jet-listing-dynamic-link__link\" href=\"https://codeup.com/your-investment-with-codeup/\"><span class=\"jet-listing-dynamic-link__label\">Read More</span></a></div>,\n",
       " <div class=\"jet-listing jet-listing-dynamic-link\"><a class=\"jet-listing-dynamic-link__link\" href=\"https://codeup.com/best-path-to-software-development-is-not-a-four-year-degree/\"><span class=\"jet-listing-dynamic-link__label\">Read More</span></a></div>,\n",
       " <div class=\"jet-listing jet-listing-dynamic-link\"><a class=\"jet-listing-dynamic-link__link\" href=\"https://codeup.com/financial-aid-options/\"><span class=\"jet-listing-dynamic-link__label\">Read More</span></a></div>,\n",
       " <div class=\"jet-listing jet-listing-dynamic-link\"><a class=\"jet-listing-dynamic-link__link\" href=\"https://codeup.com/software-development-mentors/\"><span class=\"jet-listing-dynamic-link__label\">Read More</span></a></div>,\n",
       " <div class=\"jet-listing jet-listing-dynamic-link\"><a class=\"jet-listing-dynamic-link__link\" href=\"https://codeup.com/ds-mentors/\"><span class=\"jet-listing-dynamic-link__label\">Read More</span></a></div>,\n",
       " <div class=\"jet-listing jet-listing-dynamic-link\"><a class=\"jet-listing-dynamic-link__link\" href=\"https://codeup.com/breaking-the-mold-my-journey-to-become-a-software-developer/\"><span class=\"jet-listing-dynamic-link__label\">Read More</span></a></div>,\n",
       " <div class=\"jet-listing jet-listing-dynamic-link\"><a class=\"jet-listing-dynamic-link__link\" href=\"https://codeup.com/are-coding-schools-regulated-in-texas-it-depends/\"><span class=\"jet-listing-dynamic-link__label\">Read More</span></a></div>,\n",
       " <div class=\"jet-listing jet-listing-dynamic-link\"><a class=\"jet-listing-dynamic-link__link\" href=\"https://codeup.com/thinking-about-a-bootcamp-to-transition-careers/\"><span class=\"jet-listing-dynamic-link__label\">Read More</span></a></div>,\n",
       " <div class=\"jet-listing jet-listing-dynamic-link\"><a class=\"jet-listing-dynamic-link__link\" href=\"https://codeup.com/how-i-became-a-software-developer-with-codeup/\"><span class=\"jet-listing-dynamic-link__label\">Read More</span></a></div>,\n",
       " <div class=\"jet-listing jet-listing-dynamic-link\"><a class=\"jet-listing-dynamic-link__link\" href=\"https://codeup.com/why-i-chose-to-teach-at-codeup/\"><span class=\"jet-listing-dynamic-link__label\">Read More</span></a></div>,\n",
       " <div class=\"jet-listing jet-listing-dynamic-link\"><a class=\"jet-listing-dynamic-link__link\" href=\"https://codeup.com/how-a-year-of-life-change-lead-me-to-codeup/\"><span class=\"jet-listing-dynamic-link__label\">Read More</span></a></div>,\n",
       " <div class=\"jet-listing jet-listing-dynamic-link\"><a class=\"jet-listing-dynamic-link__link\" href=\"https://codeup.com/codeup-talks-expanding-its-coding-school-to-all-of-texas-2/\"><span class=\"jet-listing-dynamic-link__label\">Read More</span></a></div>,\n",
       " <div class=\"jet-listing jet-listing-dynamic-link\"><a class=\"jet-listing-dynamic-link__link\" href=\"https://codeup.com/why-codeup-is-bringing-its-software-bootcamp-to-north-texas/\"><span class=\"jet-listing-dynamic-link__label\">Read More</span></a></div>,\n",
       " <div class=\"jet-listing jet-listing-dynamic-link\"><a class=\"jet-listing-dynamic-link__link\" href=\"https://codeup.com/how-i-paid-43-for-my-codeup-tuition/\"><span class=\"jet-listing-dynamic-link__label\">Read More</span></a></div>,\n",
       " <div class=\"jet-listing jet-listing-dynamic-link\"><a class=\"jet-listing-dynamic-link__link\" href=\"https://codeup.com/codeup-dallas-now-taking-applications/\"><span class=\"jet-listing-dynamic-link__label\">Read More</span></a></div>,\n",
       " <div class=\"jet-listing jet-listing-dynamic-link\"><a class=\"jet-listing-dynamic-link__link\" href=\"https://codeup.com/a-quest-through-codeup/\"><span class=\"jet-listing-dynamic-link__label\">Read More</span></a></div>,\n",
       " <div class=\"jet-listing jet-listing-dynamic-link\"><a class=\"jet-listing-dynamic-link__link\" href=\"https://codeup.com/quickpath-solving-the-data-science-talent-shortage-with-codeup/\"><span class=\"jet-listing-dynamic-link__label\">Read More</span></a></div>,\n",
       " <div class=\"jet-listing jet-listing-dynamic-link\"><a class=\"jet-listing-dynamic-link__link\" href=\"https://codeup.com/codeup-set-to-open-dallas-campus/\"><span class=\"jet-listing-dynamic-link__label\">Read More</span></a></div>,\n",
       " <div class=\"jet-listing jet-listing-dynamic-link\"><a class=\"jet-listing-dynamic-link__link\" href=\"https://codeup.com/local-career-accelerator-program-expanding-to-dallas/\"><span class=\"jet-listing-dynamic-link__label\">Read More</span></a></div>,\n",
       " <div class=\"jet-listing jet-listing-dynamic-link\"><a class=\"jet-listing-dynamic-link__link\" href=\"https://codeup.com/codeup-set-to-open-coding-school-in-dallas/\"><span class=\"jet-listing-dynamic-link__label\">Read More</span></a></div>,\n",
       " <div class=\"jet-listing jet-listing-dynamic-link\"><a class=\"jet-listing-dynamic-link__link\" href=\"https://codeup.com/codeup-to-open-dallas-campus-in-2020/\"><span class=\"jet-listing-dynamic-link__label\">Read More</span></a></div>,\n",
       " <div class=\"jet-listing jet-listing-dynamic-link\"><a class=\"jet-listing-dynamic-link__link\" href=\"https://codeup.com/local-coding-school-expanding-to-dallas/\"><span class=\"jet-listing-dynamic-link__label\">Read More</span></a></div>,\n",
       " <div class=\"jet-listing jet-listing-dynamic-link\"><a class=\"jet-listing-dynamic-link__link\" href=\"https://codeup.com/codeup-dallas-2020/\"><span class=\"jet-listing-dynamic-link__label\">Read More</span></a></div>,\n",
       " <div class=\"jet-listing jet-listing-dynamic-link\"><a class=\"jet-listing-dynamic-link__link\" href=\"https://codeup.com/data-science-in-the-real-world/\"><span class=\"jet-listing-dynamic-link__label\">Read More</span></a></div>,\n",
       " <div class=\"jet-listing jet-listing-dynamic-link\"><a class=\"jet-listing-dynamic-link__link\" href=\"https://codeup.com/a-quest-through-codeup-2/\"><span class=\"jet-listing-dynamic-link__label\">Read More</span></a></div>,\n",
       " <div class=\"jet-listing jet-listing-dynamic-link\"><a class=\"jet-listing-dynamic-link__link\" href=\"https://codeup.com/from-bootcamp-to-bootcamp-how-i-found-purpose-through-coding/\"><span class=\"jet-listing-dynamic-link__label\">Read More</span></a></div>,\n",
       " <div class=\"jet-listing jet-listing-dynamic-link\"><a class=\"jet-listing-dynamic-link__link\" href=\"https://codeup.com/5-common-excuses-keeping-you-from-breaking-into-the-tech-field/\"><span class=\"jet-listing-dynamic-link__label\">Read More</span></a></div>,\n",
       " <div class=\"jet-listing jet-listing-dynamic-link\"><a class=\"jet-listing-dynamic-link__link\" href=\"https://codeup.com/why-san-antonio-has-more-than-tacos-to-offer/\"><span class=\"jet-listing-dynamic-link__label\">Read More</span></a></div>,\n",
       " <div class=\"jet-listing jet-listing-dynamic-link\"><a class=\"jet-listing-dynamic-link__link\" href=\"https://codeup.com/everyday-encounters-with-data-science/\"><span class=\"jet-listing-dynamic-link__label\">Read More</span></a></div>,\n",
       " <div class=\"jet-listing jet-listing-dynamic-link\"><a class=\"jet-listing-dynamic-link__link\" href=\"https://codeup.com/codeup-grows-up-5th-birthday-party/\"><span class=\"jet-listing-dynamic-link__label\">Read More</span></a></div>,\n",
       " <div class=\"jet-listing jet-listing-dynamic-link\"><a class=\"jet-listing-dynamic-link__link\" href=\"https://codeup.com/learn-to-code-workshop-html-css-intro-to-web-development/\"><span class=\"jet-listing-dynamic-link__label\">Read More</span></a></div>,\n",
       " <div class=\"jet-listing jet-listing-dynamic-link\"><a class=\"jet-listing-dynamic-link__link\" href=\"https://codeup.com/coding-resolutions-for-the-new-year/\"><span class=\"jet-listing-dynamic-link__label\">Read More</span></a></div>,\n",
       " <div class=\"jet-listing jet-listing-dynamic-link\"><a class=\"jet-listing-dynamic-link__link\" href=\"https://codeup.com/codeup-prepared-career/\"><span class=\"jet-listing-dynamic-link__label\">Read More</span></a></div>,\n",
       " <div class=\"jet-listing jet-listing-dynamic-link\"><a class=\"jet-listing-dynamic-link__link\" href=\"https://codeup.com/why-im-thankful-for-codeup/\"><span class=\"jet-listing-dynamic-link__label\">Read More</span></a></div>,\n",
       " <div class=\"jet-listing jet-listing-dynamic-link\"><a class=\"jet-listing-dynamic-link__link\" href=\"https://codeup.com/path-codeup-coding-bootcamps/\"><span class=\"jet-listing-dynamic-link__label\">Read More</span></a></div>,\n",
       " <div class=\"jet-listing jet-listing-dynamic-link\"><a class=\"jet-listing-dynamic-link__link\" href=\"https://codeup.com/codeup-student-check-in-month-3/\"><span class=\"jet-listing-dynamic-link__label\">Read More</span></a></div>,\n",
       " <div class=\"jet-listing jet-listing-dynamic-link\"><a class=\"jet-listing-dynamic-link__link\" href=\"https://codeup.com/styling-hair-stying-interfaces/\"><span class=\"jet-listing-dynamic-link__label\">Read More</span></a></div>,\n",
       " <div class=\"jet-listing jet-listing-dynamic-link\"><a class=\"jet-listing-dynamic-link__link\" href=\"https://codeup.com/from-cooking-steaks-to-cooking-code/\"><span class=\"jet-listing-dynamic-link__label\">Read More</span></a></div>,\n",
       " <div class=\"jet-listing jet-listing-dynamic-link\"><a class=\"jet-listing-dynamic-link__link\" href=\"https://codeup.com/data-science-myths/\"><span class=\"jet-listing-dynamic-link__label\">Read More</span></a></div>,\n",
       " <div class=\"jet-listing jet-listing-dynamic-link\"><a class=\"jet-listing-dynamic-link__link\" href=\"https://codeup.com/dont-be-scared-of-coding/\"><span class=\"jet-listing-dynamic-link__label\">Read More</span></a></div>,\n",
       " <div class=\"jet-listing jet-listing-dynamic-link\"><a class=\"jet-listing-dynamic-link__link\" href=\"https://codeup.com/where-do-data-scientists-come-from/\"><span class=\"jet-listing-dynamic-link__label\">Read More</span></a></div>,\n",
       " <div class=\"jet-listing jet-listing-dynamic-link\"><a class=\"jet-listing-dynamic-link__link\" href=\"https://codeup.com/data-science-vs-data-analytics-whats-the-difference/\"><span class=\"jet-listing-dynamic-link__label\">Read More</span></a></div>,\n",
       " <div class=\"jet-listing jet-listing-dynamic-link\"><a class=\"jet-listing-dynamic-link__link\" href=\"https://codeup.com/debugging-with-codey-the-rubber-duck/\"><span class=\"jet-listing-dynamic-link__label\">Read More</span></a></div>,\n",
       " <div class=\"jet-listing jet-listing-dynamic-link\"><a class=\"jet-listing-dynamic-link__link\" href=\"https://codeup.com/from-the-service-industry-to-software-development/\"><span class=\"jet-listing-dynamic-link__label\">Read More</span></a></div>,\n",
       " <div class=\"jet-listing jet-listing-dynamic-link\"><a class=\"jet-listing-dynamic-link__link\" href=\"https://codeup.com/codeup-student-check-in-month-2/\"><span class=\"jet-listing-dynamic-link__label\">Read More</span></a></div>,\n",
       " <div class=\"jet-listing jet-listing-dynamic-link\"><a class=\"jet-listing-dynamic-link__link\" href=\"https://codeup.com/codeups-data-science-career-accelerator-is-here/\"><span class=\"jet-listing-dynamic-link__label\">Read More</span></a></div>,\n",
       " <div class=\"jet-listing jet-listing-dynamic-link\"><a class=\"jet-listing-dynamic-link__link\" href=\"https://codeup.com/which-program-is-right-for-me/\"><span class=\"jet-listing-dynamic-link__label\">Read More</span></a></div>,\n",
       " <div class=\"jet-listing jet-listing-dynamic-link\"><a class=\"jet-listing-dynamic-link__link\" href=\"https://codeup.com/from-a-recent-college-grad-to-software-developer/\"><span class=\"jet-listing-dynamic-link__label\">Read More</span></a></div>,\n",
       " <div class=\"jet-listing jet-listing-dynamic-link\"><a class=\"jet-listing-dynamic-link__link\" href=\"https://codeup.com/5-things-codeup-doesnt-tell-you/\"><span class=\"jet-listing-dynamic-link__label\">Read More</span></a></div>,\n",
       " <div class=\"jet-listing jet-listing-dynamic-link\"><a class=\"jet-listing-dynamic-link__link\" href=\"https://codeup.com/the-message-behind-our-billboards/\"><span class=\"jet-listing-dynamic-link__label\">Read More</span></a></div>,\n",
       " <div class=\"jet-listing jet-listing-dynamic-link\"><a class=\"jet-listing-dynamic-link__link\" href=\"https://codeup.com/skills-fund-financing-to-fuel-your-codeup-future/\"><span class=\"jet-listing-dynamic-link__label\">Read More</span></a></div>,\n",
       " <div class=\"jet-listing jet-listing-dynamic-link\"><a class=\"jet-listing-dynamic-link__link\" href=\"https://codeup.com/what-is-data-science/\"><span class=\"jet-listing-dynamic-link__label\">Read More</span></a></div>,\n",
       " <div class=\"jet-listing jet-listing-dynamic-link\"><a class=\"jet-listing-dynamic-link__link\" href=\"https://codeup.com/women-in-tech-scholarship-recipient-amy/\"><span class=\"jet-listing-dynamic-link__label\">Read More</span></a></div>,\n",
       " <div class=\"jet-listing jet-listing-dynamic-link\"><a class=\"jet-listing-dynamic-link__link\" href=\"https://codeup.com/anxious-about-the-job-fair/\"><span class=\"jet-listing-dynamic-link__label\">Read More</span></a></div>,\n",
       " <div class=\"jet-listing jet-listing-dynamic-link\"><a class=\"jet-listing-dynamic-link__link\" href=\"https://codeup.com/codeup-student-check-in-month-1/\"><span class=\"jet-listing-dynamic-link__label\">Read More</span></a></div>,\n",
       " <div class=\"jet-listing jet-listing-dynamic-link\"><a class=\"jet-listing-dynamic-link__link\" href=\"https://codeup.com/announcing-our-new-scholarship-minorities-in-tech-scholarship/\"><span class=\"jet-listing-dynamic-link__label\">Read More</span></a></div>,\n",
       " <div class=\"jet-listing jet-listing-dynamic-link\"><a class=\"jet-listing-dynamic-link__link\" href=\"https://codeup.com/fresh-out-of-codeup-cayden-simler/\"><span class=\"jet-listing-dynamic-link__label\">Read More</span></a></div>,\n",
       " <div class=\"jet-listing jet-listing-dynamic-link\"><a class=\"jet-listing-dynamic-link__link\" href=\"https://codeup.com/top-trends-and-tools-for-recruiters-in-the-tech-industry/\"><span class=\"jet-listing-dynamic-link__label\">Read More</span></a></div>,\n",
       " <div class=\"jet-listing jet-listing-dynamic-link\"><a class=\"jet-listing-dynamic-link__link\" href=\"https://codeup.com/all-about-the-alamo-colleges-partnership/\"><span class=\"jet-listing-dynamic-link__label\">Read More</span></a></div>,\n",
       " <div class=\"jet-listing jet-listing-dynamic-link\"><a class=\"jet-listing-dynamic-link__link\" href=\"https://codeup.com/the-job-fair-is-over-now-what-post-job-fair-tips/\"><span class=\"jet-listing-dynamic-link__label\">Read More</span></a></div>,\n",
       " <div class=\"jet-listing jet-listing-dynamic-link\"><a class=\"jet-listing-dynamic-link__link\" href=\"https://codeup.com/10-tips-to-crush-it-at-the-sa-tech-job-fair/\"><span class=\"jet-listing-dynamic-link__label\">Read More</span></a></div>,\n",
       " <div class=\"jet-listing jet-listing-dynamic-link\"><a class=\"jet-listing-dynamic-link__link\" href=\"https://codeup.com/5-hiring-trends-in-software-development/\"><span class=\"jet-listing-dynamic-link__label\">Read More</span></a></div>,\n",
       " <div class=\"jet-listing jet-listing-dynamic-link\"><a class=\"jet-listing-dynamic-link__link\" href=\"https://codeup.com/what-makes-a-successful-software-developer/\"><span class=\"jet-listing-dynamic-link__label\">Read More</span></a></div>,\n",
       " <div class=\"jet-listing jet-listing-dynamic-link\"><a class=\"jet-listing-dynamic-link__link\" href=\"https://codeup.com/alumni-spotlight-stefanie-young-and-lorne-barfield/\"><span class=\"jet-listing-dynamic-link__label\">Read More</span></a></div>,\n",
       " <div class=\"jet-listing jet-listing-dynamic-link\"><a class=\"jet-listing-dynamic-link__link\" href=\"https://codeup.com/alumni-spotlight-mary-kaitlin-mk-warren/\"><span class=\"jet-listing-dynamic-link__label\">Read More</span></a></div>,\n",
       " <div class=\"jet-listing jet-listing-dynamic-link\"><a class=\"jet-listing-dynamic-link__link\" href=\"https://codeup.com/competitor-bootcamps-are-closing-is-the-model-in-danger/\"><span class=\"jet-listing-dynamic-link__label\">Read More</span></a></div>,\n",
       " <div class=\"jet-listing jet-listing-dynamic-link\"><a class=\"jet-listing-dynamic-link__link\" href=\"https://codeup.com/codeup-doubles-down-on-transparency-in-student-outcomes/\"><span class=\"jet-listing-dynamic-link__label\">Read More</span></a></div>,\n",
       " <div class=\"jet-listing jet-listing-dynamic-link\"><a class=\"jet-listing-dynamic-link__link\" href=\"https://codeup.com/the-codeup-commitment-to-your-financial-well-being/\"><span class=\"jet-listing-dynamic-link__label\">Read More</span></a></div>,\n",
       " <div class=\"jet-listing jet-listing-dynamic-link\"><a class=\"jet-listing-dynamic-link__link\" href=\"https://codeup.com/itt-tech-closes-new-model-of-education-rises/\"><span class=\"jet-listing-dynamic-link__label\">Read More</span></a></div>,\n",
       " <div class=\"jet-listing jet-listing-dynamic-link\"><a class=\"jet-listing-dynamic-link__link\" href=\"https://codeup.com/codeups-impact-on-the-san-antonio-tech-community/\"><span class=\"jet-listing-dynamic-link__label\">Read More</span></a></div>,\n",
       " <div class=\"jet-listing jet-listing-dynamic-link\"><a class=\"jet-listing-dynamic-link__link\" href=\"https://codeup.com/bootcamp-living-expenses-codeups-got-you-covered/\"><span class=\"jet-listing-dynamic-link__label\">Read More</span></a></div>,\n",
       " <div class=\"jet-listing jet-listing-dynamic-link\"><a class=\"jet-listing-dynamic-link__link\" href=\"https://codeup.com/6-tips-for-picking-the-best-coding-bootcamp/\"><span class=\"jet-listing-dynamic-link__label\">Read More</span></a></div>,\n",
       " <div class=\"jet-listing jet-listing-dynamic-link\"><a class=\"jet-listing-dynamic-link__link\" href=\"https://codeup.com/open-for-bitcoin-business/\"><span class=\"jet-listing-dynamic-link__label\">Read More</span></a></div>,\n",
       " <div class=\"jet-listing jet-listing-dynamic-link\"><a class=\"jet-listing-dynamic-link__link\" href=\"https://codeup.com/a-guide-to-hiring-fresh-technical-talent/\"><span class=\"jet-listing-dynamic-link__label\">Read More</span></a></div>,\n",
       " <div class=\"jet-listing jet-listing-dynamic-link\"><a class=\"jet-listing-dynamic-link__link\" href=\"https://codeup.com/dont-worry-heres-the-best-bootcamp-funding-options/\"><span class=\"jet-listing-dynamic-link__label\">Read More</span></a></div>,\n",
       " <div class=\"jet-listing jet-listing-dynamic-link\"><a class=\"jet-listing-dynamic-link__link\" href=\"https://codeup.com/startup-week-the-little-week-that-could-and-did/\"><span class=\"jet-listing-dynamic-link__label\">Read More</span></a></div>,\n",
       " <div class=\"jet-listing jet-listing-dynamic-link\"><a class=\"jet-listing-dynamic-link__link\" href=\"https://codeup.com/the-results-are-in-codeup-growsup-was-a-smashing-success/\"><span class=\"jet-listing-dynamic-link__label\">Read More</span></a></div>,\n",
       " <div class=\"jet-listing jet-listing-dynamic-link\"><a class=\"jet-listing-dynamic-link__link\" href=\"https://codeup.com/codeup-helps-rails-girls-help-women-learn-to-code-in-san-antonio/\"><span class=\"jet-listing-dynamic-link__label\">Read More</span></a></div>,\n",
       " <div class=\"jet-listing jet-listing-dynamic-link\"><a class=\"jet-listing-dynamic-link__link\" href=\"https://codeup.com/filling-up-fast-with-good-reason/\"><span class=\"jet-listing-dynamic-link__label\">Read More</span></a></div>,\n",
       " <div class=\"jet-listing jet-listing-dynamic-link\"><a class=\"jet-listing-dynamic-link__link\" href=\"https://codeup.com/codeup-and-launchcode-partner-to-help-grads-launch-careers-in-coding/\"><span class=\"jet-listing-dynamic-link__label\">Read More</span></a></div>,\n",
       " <div class=\"jet-listing jet-listing-dynamic-link\"><a class=\"jet-listing-dynamic-link__link\" href=\"https://codeup.com/press-release-free-learn-to-code-bootcamp-for-veterans-and-transitioning-servicemembers-launches-in-class-portion/\"><span class=\"jet-listing-dynamic-link__label\">Read More</span></a></div>,\n",
       " <div class=\"jet-listing jet-listing-dynamic-link\"><a class=\"jet-listing-dynamic-link__link\" href=\"https://codeup.com/what-the-sa-tech-job-fair-says-about-san-antonio/\"><span class=\"jet-listing-dynamic-link__label\">Read More</span></a></div>,\n",
       " <div class=\"jet-listing jet-listing-dynamic-link\"><a class=\"jet-listing-dynamic-link__link\" href=\"https://codeup.com/why-choose-codeup/\"><span class=\"jet-listing-dynamic-link__label\">Read More</span></a></div>,\n",
       " <div class=\"jet-listing jet-listing-dynamic-link\"><a class=\"jet-listing-dynamic-link__link\" href=\"https://codeup.com/use-your-texas-unemployment-benefits-at-codeup/\"><span class=\"jet-listing-dynamic-link__label\">Read More</span></a></div>,\n",
       " <div class=\"jet-listing jet-listing-dynamic-link\"><a class=\"jet-listing-dynamic-link__link\" href=\"https://codeup.com/qa-with-luis-martinez-director-of-entrepreneurship-at-trinity-university/\"><span class=\"jet-listing-dynamic-link__label\">Read More</span></a></div>]"
      ]
     },
     "execution_count": 35,
     "metadata": {},
     "output_type": "execute_result"
    }
   ],
   "source": [
    "blogs"
   ]
  },
  {
   "cell_type": "code",
   "execution_count": 29,
   "metadata": {},
   "outputs": [
    {
     "data": {
      "text/plain": [
       "[<a class=\"jet-listing-dynamic-link__link\" href=\"https://codeup.com/bootcamp-to-bootcamp/\"><span class=\"jet-listing-dynamic-link__label\">Read More</span></a>]"
      ]
     },
     "execution_count": 29,
     "metadata": {},
     "output_type": "execute_result"
    }
   ],
   "source": [
    "links"
   ]
  },
  {
   "cell_type": "code",
   "execution_count": null,
   "metadata": {},
   "outputs": [],
   "source": []
  },
  {
   "cell_type": "code",
   "execution_count": null,
   "metadata": {},
   "outputs": [],
   "source": [
    "    #loop to pull all codeup blogs\n",
    "    #urls = ['https://codeup.com/codeups-data-science-career-accelerator-is-here/','https://codeup.com/data-science-myths/','https://codeup.com/data-science-vs-data-analytics-whats-the-difference/','https://codeup.com/10-tips-to-crush-it-at-the-sa-tech-job-fair/','https://codeup.com/competitor-bootcamps-are-closing-is-the-model-in-danger/']\n",
    "\n",
    "    df = pd.DataFrame()\n",
    "    blogs = []\n",
    "    titles = []\n",
    "    for link in all_links:\n",
    "\n",
    "        response = get(link,headers=headers)\n",
    "        soup = BeautifulSoup(response.text)\n",
    "        body = soup.find('div',class_=\"mk-single-content\").get_text()\n",
    "        if soup.find('h1',class_=\"page-title\") is not None:\n",
    "            title = soup.find('h1',class_=\"page-title\").get_text()\n",
    "        else:\n",
    "            title = np.nan\n",
    "\n",
    "        blogs.append(body)\n",
    "        titles.append(title)\n",
    "    df['title'] = pd.Series(titles)\n",
    "    df['article'] = pd.Series(blogs)\n",
    "    return df"
   ]
  },
  {
   "cell_type": "code",
   "execution_count": 69,
   "metadata": {},
   "outputs": [],
   "source": [
    "def get_all_blog_links():\n",
    "    url = 'https://codeup.com/resources/#blog'\n",
    "    headers = {'User-Agent': \"Curie Data Science Cohort\"}\n",
    "    response = get(url,headers=headers)\n",
    "    soup = BeautifulSoup(response.text)\n",
    "    links = []\n",
    "    \n",
    "    for a in soup.find_all('a', class_=\"jet-listing jet-listing-dynamic-link\", href=True):\n",
    "        links.append(a['href'])\n",
    "        \n",
    "    return links"
   ]
  },
  {
   "cell_type": "code",
   "execution_count": 58,
   "metadata": {},
   "outputs": [],
   "source": [
    "def get_all_blog_links():\n",
    "    url = 'https://codeup.com/resources/#blog'\n",
    "    headers = {'User-Agent': \"Curie Data Science Cohort\"}\n",
    "    response = get(url,headers=headers)\n",
    "    soup = BeautifulSoup(response.text)\n",
    "    \n",
    "    links = []\n",
    "    \n",
    "    for a in soup.find_all('a', class_=\"jet-listing jet-listing-dynamic-link\", href=True):\n",
    "        links.append(a['href'])\n",
    "        \n",
    "        return links\n",
    "    #loop to pull all codeup blogs\n",
    "    #urls = ['https://codeup.com/codeups-data-science-career-accelerator-is-here/','https://codeup.com/data-science-myths/','https://codeup.com/data-science-vs-data-analytics-whats-the-difference/','https://codeup.com/10-tips-to-crush-it-at-the-sa-tech-job-fair/','https://codeup.com/competitor-bootcamps-are-closing-is-the-model-in-danger/']\n",
    "\n",
    "    df = pd.DataFrame()\n",
    "    blogs = []\n",
    "    titles = []\n",
    "    for link in all_links:\n",
    "        headers = {'User-Agent': \"Curie Data Science Cohort\"}\n",
    "        response = get(link,headers=headers)\n",
    "        soup = BeautifulSoup(response.content, 'html.parser')\n",
    "        body = soup.find('div',class_=\"jupiterx-post-content\").get_text()\n",
    "        title = soup.find('h1',class_=\"jupiterx-post-title\").get_text()\n",
    "        \n",
    "\n",
    "        blogs.append(body)\n",
    "        titles.append(title)\n",
    "    df['title'] = pd.Series(titles)\n",
    "    df['article'] = pd.Series(blogs)\n",
    "    return df"
   ]
  },
  {
   "cell_type": "code",
   "execution_count": 59,
   "metadata": {},
   "outputs": [
    {
     "name": "stderr",
     "output_type": "stream",
     "text": [
      "/usr/local/anaconda3/lib/python3.7/site-packages/ipykernel_launcher.py:26: DeprecationWarning: The default dtype for empty Series will be 'object' instead of 'float64' in a future version. Specify a dtype explicitly to silence this warning.\n",
      "/usr/local/anaconda3/lib/python3.7/site-packages/ipykernel_launcher.py:27: DeprecationWarning: The default dtype for empty Series will be 'object' instead of 'float64' in a future version. Specify a dtype explicitly to silence this warning.\n"
     ]
    }
   ],
   "source": [
    "df = get_all_blogs()"
   ]
  },
  {
   "cell_type": "code",
   "execution_count": 53,
   "metadata": {},
   "outputs": [
    {
     "data": {
      "text/plain": [
       "[]"
      ]
     },
     "execution_count": 53,
     "metadata": {},
     "output_type": "execute_result"
    }
   ],
   "source": [
    "get_all_blog_links()"
   ]
  },
  {
   "cell_type": "code",
   "execution_count": 68,
   "metadata": {},
   "outputs": [
    {
     "ename": "SyntaxError",
     "evalue": "'return' outside function (<ipython-input-68-0ec8248f2d43>, line 10)",
     "output_type": "error",
     "traceback": [
      "\u001b[0;36m  File \u001b[0;32m\"<ipython-input-68-0ec8248f2d43>\"\u001b[0;36m, line \u001b[0;32m10\u001b[0m\n\u001b[0;31m    return links.append(a['href'])\u001b[0m\n\u001b[0m    ^\u001b[0m\n\u001b[0;31mSyntaxError\u001b[0m\u001b[0;31m:\u001b[0m 'return' outside function\n"
     ]
    }
   ],
   "source": [
    "#def get_all_blog_links():\n",
    "url = 'https://codeup.com/resources/#blog'\n",
    "headers = {'User-Agent': \"Curie Data Science Cohort\"}\n",
    "response = get(url,headers=headers)\n",
    "soup = BeautifulSoup(response.content, 'html.parser')\n",
    "\n",
    "links = []\n",
    "\n",
    "for a in soup.find_all('a', class_=\"jet-listing jet-listing-dynamic-link\", href=True):\n",
    "    return links.append(a['href'])"
   ]
  },
  {
   "cell_type": "code",
   "execution_count": 61,
   "metadata": {},
   "outputs": [
    {
     "data": {
      "text/plain": [
       "[]"
      ]
     },
     "execution_count": 61,
     "metadata": {},
     "output_type": "execute_result"
    }
   ],
   "source": [
    "get_all_blog_links()"
   ]
  },
  {
   "cell_type": "code",
   "execution_count": 70,
   "metadata": {},
   "outputs": [
    {
     "data": {
      "text/plain": [
       "[]"
      ]
     },
     "execution_count": 70,
     "metadata": {},
     "output_type": "execute_result"
    }
   ],
   "source": [
    "links"
   ]
  },
  {
   "cell_type": "code",
   "execution_count": null,
   "metadata": {},
   "outputs": [],
   "source": []
  }
 ],
 "metadata": {
  "kernelspec": {
   "display_name": "Python 3",
   "language": "python",
   "name": "python3"
  },
  "language_info": {
   "codemirror_mode": {
    "name": "ipython",
    "version": 3
   },
   "file_extension": ".py",
   "mimetype": "text/x-python",
   "name": "python",
   "nbconvert_exporter": "python",
   "pygments_lexer": "ipython3",
   "version": "3.7.4"
  }
 },
 "nbformat": 4,
 "nbformat_minor": 2
}
